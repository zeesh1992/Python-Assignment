{
 "cells": [
  {
   "cell_type": "code",
   "execution_count": 1,
   "metadata": {},
   "outputs": [
    {
     "name": "stdout",
     "output_type": "stream",
     "text": [
      "Hello Python\n"
     ]
    }
   ],
   "source": [
    "# 1. Program to print Hello Python\n",
    "\n",
    "print(\"Hello Python\")"
   ]
  },
  {
   "cell_type": "code",
   "execution_count": 5,
   "metadata": {},
   "outputs": [
    {
     "name": "stdout",
     "output_type": "stream",
     "text": [
      "Enter a number30\n",
      "Enter a number5\n",
      "Addition :  35\n",
      "Division :  6.0\n"
     ]
    }
   ],
   "source": [
    "# 2 addition and division\n",
    "\n",
    "a=int(input(\"Enter a number \"))\n",
    "b=int(input(\"Enter a number \"))\n",
    "\n",
    "print(\"Addition : \",(a+b))\n",
    "print(\"Division : \",(a/b))\n"
   ]
  },
  {
   "cell_type": "code",
   "execution_count": 10,
   "metadata": {},
   "outputs": [
    {
     "name": "stdout",
     "output_type": "stream",
     "text": [
      "Enter first side5\n",
      "Enter second side6\n",
      "Enter third side7\n",
      "Area of the triangle:  14.696938456699069\n"
     ]
    }
   ],
   "source": [
    "#3 find the area of triangle\n",
    "\n",
    "a=float(input(\"Enter first side \"))\n",
    "b=float(input(\"Enter second side \"))\n",
    "c=float(input(\"Enter third side \"))\n",
    "\n",
    "s=(a+b+c)/2\n",
    "area = (s*(s-a)*(s-b)*(s-c)) ** 0.5\n",
    "print(\"Area of the triangle: \", area)"
   ]
  },
  {
   "cell_type": "code",
   "execution_count": 12,
   "metadata": {},
   "outputs": [
    {
     "name": "stdout",
     "output_type": "stream",
     "text": [
      "Enter a number 5\n",
      "Enter a number 6\n",
      "Values before swapping 5 6\n",
      "Values of variables after swapping 6 5\n"
     ]
    }
   ],
   "source": [
    "# 4. swap two variables\n",
    "\n",
    "a=int(input(\"Enter a number \"))\n",
    "b=int(input(\"Enter a number \"))\n",
    "\n",
    "print(\"Values before swapping\",a,b)\n",
    "c=a\n",
    "a=b\n",
    "b=c\n",
    "\n",
    "print(\"Values of variables after swapping\",a,b)"
   ]
  },
  {
   "cell_type": "code",
   "execution_count": 20,
   "metadata": {},
   "outputs": [
    {
     "name": "stdout",
     "output_type": "stream",
     "text": [
      "0.8905821443026197\n"
     ]
    }
   ],
   "source": [
    "# 5. generate random number\n",
    "\n",
    "import random\n",
    "print(random.random())"
   ]
  }
 ],
 "metadata": {
  "kernelspec": {
   "display_name": "Python 3",
   "language": "python",
   "name": "python3"
  },
  "language_info": {
   "codemirror_mode": {
    "name": "ipython",
    "version": 3
   },
   "file_extension": ".py",
   "mimetype": "text/x-python",
   "name": "python",
   "nbconvert_exporter": "python",
   "pygments_lexer": "ipython3",
   "version": "3.8.5"
  }
 },
 "nbformat": 4,
 "nbformat_minor": 4
}
