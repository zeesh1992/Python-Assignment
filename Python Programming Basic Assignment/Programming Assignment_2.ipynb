{
 "cells": [
  {
   "cell_type": "code",
   "execution_count": 2,
   "metadata": {},
   "outputs": [
    {
     "name": "stdout",
     "output_type": "stream",
     "text": [
      "Enter the distance in kilometers10\n",
      "Distance in miles :  6.213699999999999\n"
     ]
    }
   ],
   "source": [
    "#1. convert kilometers into miles\n",
    "\n",
    "a=float(input(\"Enter the distance in kilometers \"))\n",
    "print(\"Distance in miles : \",a*0.62137)"
   ]
  },
  {
   "cell_type": "code",
   "execution_count": 4,
   "metadata": {},
   "outputs": [
    {
     "name": "stdout",
     "output_type": "stream",
     "text": [
      "Enter the temperature in Celsius37\n",
      "Temperature in Fahrenheit :  98.60000000000001\n"
     ]
    }
   ],
   "source": [
    "#2. convert Celsius to Fahrenheit\n",
    "\n",
    "a=float(input(\"Enter the temperature in Celsius \"))\n",
    "print(\"Temperature in Fahrenheit : \",(a*1.8)+32)"
   ]
  },
  {
   "cell_type": "code",
   "execution_count": 7,
   "metadata": {},
   "outputs": [
    {
     "name": "stdout",
     "output_type": "stream",
     "text": [
      "Enter the year : 2021\n",
      "Enter the month : 05\n",
      "      May 2021\n",
      "Mo Tu We Th Fr Sa Su\n",
      "                1  2\n",
      " 3  4  5  6  7  8  9\n",
      "10 11 12 13 14 15 16\n",
      "17 18 19 20 21 22 23\n",
      "24 25 26 27 28 29 30\n",
      "31\n",
      "\n"
     ]
    }
   ],
   "source": [
    "#3. display calendar\n",
    "import calendar\n",
    "year=int(input(\"Enter the year : \"))\n",
    "month=int(input(\"Enter the month : \"))\n",
    "\n",
    "print(calendar.month(year, month))"
   ]
  },
  {
   "cell_type": "code",
   "execution_count": 12,
   "metadata": {},
   "outputs": [
    {
     "name": "stdout",
     "output_type": "stream",
     "text": [
      "Enter first number : 3\n",
      "Enter second number : 10\n",
      "Enter third number : 3\n",
      "8.0\n",
      "Roots of the quadratic equation are :  -0.3333333333333333 -3.0\n"
     ]
    }
   ],
   "source": [
    "#4. solve quadratic equation\n",
    "\n",
    "a=int(input(\"Enter first number : \"))\n",
    "b=int(input(\"Enter second number : \"))\n",
    "c=int(input(\"Enter third number : \"))\n",
    "\n",
    "d=(b*b - 4*a*c)**0.5\n",
    "print(d)\n",
    "root1= (-b+d)/(2*a)\n",
    "root2= (-b-d)/(2*a)\n",
    "\n",
    "print(\"Roots of the quadratic equation are : \",root1,root2)"
   ]
  },
  {
   "cell_type": "code",
   "execution_count": 13,
   "metadata": {},
   "outputs": [
    {
     "name": "stdout",
     "output_type": "stream",
     "text": [
      "Enter first number : 5\n",
      "Enter second number : 6\n",
      "Values before swapping :  5 6\n",
      "Values after swapping :  6 5\n"
     ]
    }
   ],
   "source": [
    "#5. swap two variables without temp variable\n",
    "\n",
    "a=int(input(\"Enter first number : \"))\n",
    "b=int(input(\"Enter second number : \"))\n",
    "print(\"Values before swapping : \",a,b)\n",
    "\n",
    "a=a+b\n",
    "b=a-b\n",
    "a=a-b\n",
    "\n",
    "print(\"Values after swapping : \",a,b)"
   ]
  }
 ],
 "metadata": {
  "kernelspec": {
   "display_name": "Python 3",
   "language": "python",
   "name": "python3"
  },
  "language_info": {
   "codemirror_mode": {
    "name": "ipython",
    "version": 3
   },
   "file_extension": ".py",
   "mimetype": "text/x-python",
   "name": "python",
   "nbconvert_exporter": "python",
   "pygments_lexer": "ipython3",
   "version": "3.8.5"
  }
 },
 "nbformat": 4,
 "nbformat_minor": 4
}
