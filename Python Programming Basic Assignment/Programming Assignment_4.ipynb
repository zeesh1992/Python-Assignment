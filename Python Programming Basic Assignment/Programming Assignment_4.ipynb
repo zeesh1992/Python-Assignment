{
 "cells": [
  {
   "cell_type": "code",
   "execution_count": 2,
   "metadata": {},
   "outputs": [
    {
     "name": "stdout",
     "output_type": "stream",
     "text": [
      "Enter the number to find its factorial : 5\n",
      "Factorial of 5 is 120 \n"
     ]
    }
   ],
   "source": [
    "#1. Program to find the factorial of a number\n",
    "\n",
    "num=int(input(\"Enter the number to find its factorial : \"))\n",
    "fact=1\n",
    "for i in range(1,num+1):\n",
    "    fact=fact*i\n",
    "print(\"Factorial of {} is {} \".format(num,fact))"
   ]
  },
  {
   "cell_type": "code",
   "execution_count": 3,
   "metadata": {},
   "outputs": [
    {
     "name": "stdout",
     "output_type": "stream",
     "text": [
      "Enter the number to find its multiplication table : 5\n",
      "Enter the range of its multiples : 10\n",
      "5 * 1 : 5\n",
      "5 * 2 : 10\n",
      "5 * 3 : 15\n",
      "5 * 4 : 20\n",
      "5 * 5 : 25\n",
      "5 * 6 : 30\n",
      "5 * 7 : 35\n",
      "5 * 8 : 40\n",
      "5 * 9 : 45\n",
      "5 * 10 : 50\n"
     ]
    }
   ],
   "source": [
    "#2. Program to display the multiplication table\n",
    "\n",
    "num=int(input(\"Enter the number to find its multiplication table : \"))\n",
    "r=int(input(\"Enter the range of its multiples : \"))\n",
    "m=1\n",
    "for i in range(1,r+1):\n",
    "    m=num*i\n",
    "    print(\"{} * {} : {}\".format(num,i,m))"
   ]
  },
  {
   "cell_type": "code",
   "execution_count": 6,
   "metadata": {},
   "outputs": [
    {
     "name": "stdout",
     "output_type": "stream",
     "text": [
      "Enter the range of Fibonacci series : 10\n",
      "1\n",
      "1\n",
      "2\n",
      "3\n",
      "5\n",
      "8\n",
      "13\n",
      "21\n",
      "34\n",
      "55\n",
      "89\n"
     ]
    }
   ],
   "source": [
    "#3. Program to print the Fibonacci series\n",
    "r=int(input(\"Enter the range of Fibonacci series : \"))\n",
    "a=1\n",
    "b=0\n",
    "print(a)\n",
    "for i in range(r):\n",
    "    sum=a+b\n",
    "    print(sum)\n",
    "    b=a\n",
    "    a=sum"
   ]
  },
  {
   "cell_type": "code",
   "execution_count": 47,
   "metadata": {},
   "outputs": [
    {
     "name": "stdout",
     "output_type": "stream",
     "text": [
      "Enter the number to check whether its Armstrong or not : 153\n",
      "153 is an Armstrong number\n"
     ]
    }
   ],
   "source": [
    "#4. Program to check Armstrong number\n",
    "\n",
    "num=int(input(\"Enter the number to check whether its Armstrong or not : \"))\n",
    "dup=num\n",
    "rem=0\n",
    "sum_cube=0\n",
    "while num>0:\n",
    "    rem=num%10\n",
    "    sum_cube += (rem**3)\n",
    "    num=int(num/10)\n",
    "    \n",
    "if(sum_cube==dup):\n",
    "    print(\"{} is an Armstrong number\".format(dup))\n",
    "else:\n",
    "    print(\"{} is not an Armstrong number\".format(dup))"
   ]
  },
  {
   "cell_type": "code",
   "execution_count": 36,
   "metadata": {},
   "outputs": [
    {
     "name": "stdout",
     "output_type": "stream",
     "text": [
      "Enter the lower range in which the Armstrong number is to be checked: 0\n",
      "Enter the upper range in which the Armstrong number is to be checked: 10000\n",
      "Armstrong numbers within the range of 0 and 10000 are : \n",
      "0\n",
      "1\n",
      "2\n",
      "3\n",
      "4\n",
      "5\n",
      "6\n",
      "7\n",
      "8\n",
      "9\n",
      "153\n",
      "370\n",
      "371\n",
      "407\n",
      "1634\n",
      "8208\n",
      "9474\n"
     ]
    }
   ],
   "source": [
    "## 5. Program to find Armstrong number in an interval\n",
    "\n",
    "lb=int(input(\"Enter the lower range in which the Armstrong number is to be checked: \"))\n",
    "ub=int(input(\"Enter the upper range in which the Armstrong number is to be checked: \"))\n",
    "print(\"Armstrong numbers within the range of {} and {} are : \".format(lb,ub))\n",
    "\n",
    "for i in range(lb, ub+1):\n",
    "    num = i\n",
    "    dup = i\n",
    "    index = len(str(num))\n",
    "    rem=0\n",
    "    sum_cube=0\n",
    "    while num>0:\n",
    "        rem=num%10\n",
    "        sum_cube=sum_cube + (rem**index)\n",
    "        num=int(num/10)\n",
    "    if(sum_cube==dup):\n",
    "        print(dup)"
   ]
  },
  {
   "cell_type": "code",
   "execution_count": 46,
   "metadata": {},
   "outputs": [
    {
     "name": "stdout",
     "output_type": "stream",
     "text": [
      "Enter the range of Natural numbers : 100\n",
      "Sum of natural numbers uptil 100 is 5050\n"
     ]
    }
   ],
   "source": [
    "#6. Program to find the sum of natural numbers\n",
    "\n",
    "r=int(input(\"Enter the range of Natural numbers : \"))\n",
    "sum=0\n",
    "for i in range(r+1):\n",
    "    sum+=i\n",
    "print(\"Sum of natural numbers uptil {} is {}\".format(r,sum))"
   ]
  }
 ],
 "metadata": {
  "kernelspec": {
   "display_name": "Python 3",
   "language": "python",
   "name": "python3"
  },
  "language_info": {
   "codemirror_mode": {
    "name": "ipython",
    "version": 3
   },
   "file_extension": ".py",
   "mimetype": "text/x-python",
   "name": "python",
   "nbconvert_exporter": "python",
   "pygments_lexer": "ipython3",
   "version": "3.8.5"
  }
 },
 "nbformat": 4,
 "nbformat_minor": 4
}
