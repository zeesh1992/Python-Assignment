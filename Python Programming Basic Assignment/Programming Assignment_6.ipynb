{
 "cells": [
  {
   "cell_type": "code",
   "execution_count": 13,
   "metadata": {},
   "outputs": [
    {
     "name": "stdout",
     "output_type": "stream",
     "text": [
      "Enter the range of Fibonacci series: 9\n",
      "Fibonacci series of 9 is: \n",
      "0\n",
      "1\n",
      "1\n",
      "2\n",
      "3\n",
      "5\n",
      "8\n",
      "13\n",
      "21\n",
      "34\n"
     ]
    }
   ],
   "source": [
    "#1. Program to display Fibonacci Series using Recursion\n",
    "\n",
    "r=int(input(\"Enter the range of Fibonacci series: \"))\n",
    "def Fibo(x):\n",
    "    if x==0:\n",
    "        return 0\n",
    "    elif x==1:\n",
    "        return 1\n",
    "    else:\n",
    "        return Fibo(x-1)+Fibo(x-2)\n",
    "\n",
    "print(\"Fibonacci series of {} is: \".format(r))\n",
    "for i in range(r+1):\n",
    "    print(Fibo(i))\n",
    "        "
   ]
  },
  {
   "cell_type": "code",
   "execution_count": 8,
   "metadata": {},
   "outputs": [
    {
     "name": "stdout",
     "output_type": "stream",
     "text": [
      "Enter the number to find the factorial: 5\n",
      "Factorial of the number is  120\n"
     ]
    }
   ],
   "source": [
    "#2. Program to find Factorial of a number using Recursion\n",
    "\n",
    "n=int(input(\"Enter the number to find the factorial: \"))\n",
    "fact_num=1\n",
    "def Fact(x):\n",
    "    if x==1:\n",
    "        return 1\n",
    "    else:\n",
    "        return x*Fact(x-1)\n",
    "\n",
    "fact_num = Fact(n)\n",
    "\n",
    "print(\"Factorial of the number is \",fact_num)"
   ]
  },
  {
   "cell_type": "code",
   "execution_count": 16,
   "metadata": {},
   "outputs": [
    {
     "name": "stdout",
     "output_type": "stream",
     "text": [
      "Enter your body mass in kgs: 60\n",
      "Enter your height in metres: 1.68\n",
      "Body Mass Index:  21.258503401360546\n"
     ]
    }
   ],
   "source": [
    "#3. Program to calculate Body Mass Index\n",
    "\n",
    "m=float(input(\"Enter your body mass in kgs: \"))\n",
    "h=float(input(\"Enter your height in metres: \"))\n",
    "\n",
    "bmi=m/(h**2)\n",
    "print(\"Body Mass Index: \",bmi)"
   ]
  },
  {
   "cell_type": "code",
   "execution_count": 21,
   "metadata": {},
   "outputs": [
    {
     "name": "stdout",
     "output_type": "stream",
     "text": [
      "Enter a number to find its log: 23\n",
      "Enter the base: 10\n",
      "The natural logarithm of 23 is 1.3617278360175928\n"
     ]
    }
   ],
   "source": [
    "#4. Program to find the natural logarithm of a number\n",
    "\n",
    "import math\n",
    "n=int(input(\"Enter a number to find its log: \"))\n",
    "b=int(input(\"Enter the base: \"))\n",
    "l=math.log(n,b)\n",
    "print(\"The natural logarithm of {} is {}\".format(n,l))"
   ]
  },
  {
   "cell_type": "code",
   "execution_count": 23,
   "metadata": {},
   "outputs": [
    {
     "name": "stdout",
     "output_type": "stream",
     "text": [
      "Enter the range of natural numbers: 10\n",
      "Cube sum of first 10 natual numbers is 3025\n"
     ]
    }
   ],
   "source": [
    "#5. Program to find the cube sum of first n natual numbers\n",
    "\n",
    "r=int(input(\"Enter the range of natural numbers: \"))\n",
    "sum=0\n",
    "for i in range(1,r+1):\n",
    "    sum+=i**3\n",
    "print(\"Cube sum of first {} natual numbers is {}\".format(r,sum))"
   ]
  }
 ],
 "metadata": {
  "kernelspec": {
   "display_name": "Python 3",
   "language": "python",
   "name": "python3"
  },
  "language_info": {
   "codemirror_mode": {
    "name": "ipython",
    "version": 3
   },
   "file_extension": ".py",
   "mimetype": "text/x-python",
   "name": "python",
   "nbconvert_exporter": "python",
   "pygments_lexer": "ipython3",
   "version": "3.8.5"
  }
 },
 "nbformat": 4,
 "nbformat_minor": 4
}
