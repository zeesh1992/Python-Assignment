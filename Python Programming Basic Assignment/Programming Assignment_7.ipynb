{
 "cells": [
  {
   "cell_type": "code",
   "execution_count": 4,
   "metadata": {},
   "outputs": [
    {
     "name": "stdout",
     "output_type": "stream",
     "text": [
      "Enter the number of elements: 5\n",
      "Enter the element: 1\n",
      "Enter the element: 2\n",
      "Enter the element: 3\n",
      "Enter the element: 4\n",
      "Enter the element: 5\n",
      "The elements of the list are:  [1, 2, 3, 4, 5]\n",
      "Sum of the elements of the list is:  15\n"
     ]
    }
   ],
   "source": [
    "#1. Program to find the sum of array\n",
    "\n",
    "lst=[]\n",
    "n=int(input(\"Enter the number of elements: \"))\n",
    "for i in range(n):\n",
    "    x=int(input(\"Enter the element: \"))\n",
    "    lst.append(x)\n",
    "\n",
    "print(\"The elements of the list are: \",lst)\n",
    "\n",
    "#finding sum of the list\n",
    "sum=0\n",
    "for i in lst:\n",
    "    sum+=i\n",
    "    \n",
    "print(\"Sum of the elements of the list is: \",sum)"
   ]
  },
  {
   "cell_type": "code",
   "execution_count": 5,
   "metadata": {},
   "outputs": [
    {
     "name": "stdout",
     "output_type": "stream",
     "text": [
      "Enter the number of elements: 5\n",
      "Enter the element: 28\n",
      "Enter the element: 97\n",
      "Enter the element: 65\n",
      "Enter the element: 102\n",
      "Enter the element: 23\n",
      "The elements of the list are:  [28, 97, 65, 102, 23]\n",
      "Largest element in the list is 102\n"
     ]
    }
   ],
   "source": [
    "#2. Program to find the largest element in the array\n",
    "\n",
    "lst=[]\n",
    "n=int(input(\"Enter the number of elements: \"))\n",
    "for i in range(n):\n",
    "    x=int(input(\"Enter the element: \"))\n",
    "    lst.append(x)\n",
    "\n",
    "print(\"The elements of the list are: \",lst)\n",
    "\n",
    "#finding the largest element in the list\n",
    "\n",
    "largest=lst[0]\n",
    "for i in range(1,n):\n",
    "    if lst[i]>largest:\n",
    "        largest=lst[i]\n",
    "        \n",
    "print(\"Largest element in the list is {}\".format(largest))"
   ]
  },
  {
   "cell_type": "code",
   "execution_count": 9,
   "metadata": {},
   "outputs": [
    {
     "name": "stdout",
     "output_type": "stream",
     "text": [
      "Enter the number of elements: 5\n",
      "Enter the element: 1\n",
      "Enter the element: 2\n",
      "Enter the element: 3\n",
      "Enter the element: 4\n",
      "Enter the element: 5\n",
      "The elements of the list are:  [1, 2, 3, 4, 5]\n",
      "Enter the number of rotations: 3\n",
      "List elements after rotation:  [4, 5, 1, 2, 3]\n"
     ]
    }
   ],
   "source": [
    "#3. Python program for array rotation\n",
    "\n",
    "lst=[]\n",
    "n=int(input(\"Enter the number of elements: \"))\n",
    "for i in range(n):\n",
    "    x=int(input(\"Enter the element: \"))\n",
    "    lst.append(x)\n",
    "\n",
    "print(\"The elements of the list are: \",lst)\n",
    "\n",
    "#list rotation\n",
    "\n",
    "d=int(input(\"Enter the number of rotations: \"))\n",
    "temp=[]\n",
    "#storing the rotation elements in Temp list\n",
    "for i in range(d):\n",
    "    temp.append(lst[i])\n",
    "\n",
    "for j in range(n-d):\n",
    "    lst[j]=lst[j+d]\n",
    "pos=n-d\n",
    "for k in range(d):\n",
    "    lst[pos]=temp[k]\n",
    "    pos=pos+1\n",
    "    \n",
    "print(\"List elements after rotation: \",lst)"
   ]
  },
  {
   "cell_type": "code",
   "execution_count": 12,
   "metadata": {},
   "outputs": [
    {
     "name": "stdout",
     "output_type": "stream",
     "text": [
      "Enter the number of elements: 5\n",
      "Enter the element: 1\n",
      "Enter the element: 2\n",
      "Enter the element: 3\n",
      "Enter the element: 4\n",
      "Enter the element: 5\n",
      "The elements of the list are:  [1, 2, 3, 4, 5]\n",
      "Enter the index to split the list: 2\n",
      "List after splitting from position 2 is [3, 4, 5, 1, 2]\n"
     ]
    }
   ],
   "source": [
    "#4. Program to split the array and add the first part to the end\n",
    "\n",
    "def splitList(lst1,l,d):\n",
    "    for i in range(k):\n",
    "        x=lst[0]\n",
    "        for i in range(l-1):\n",
    "            lst[i]=lst[i+1]\n",
    "        lst[l-1]=x\n",
    "    return lst1\n",
    "\n",
    "lst=[]\n",
    "n=int(input(\"Enter the number of elements: \"))\n",
    "for i in range(n):\n",
    "    x=int(input(\"Enter the element: \"))\n",
    "    lst.append(x)\n",
    "\n",
    "print(\"The elements of the list are: \",lst)\n",
    "d=int(input(\"Enter the index to split the list: \"))\n",
    "\n",
    "lst=splitList(lst,n,d)\n",
    "print(\"List after splitting from position {a} is {b}\".format(a=d,b=lst))"
   ]
  },
  {
   "cell_type": "code",
   "execution_count": 25,
   "metadata": {},
   "outputs": [
    {
     "name": "stdout",
     "output_type": "stream",
     "text": [
      "Enter the number of elements: 7\n",
      "Enter the element: 90\n",
      "Enter the element: 80\n",
      "Enter the element: 75\n",
      "Enter the element: 75\n",
      "Enter the element: 44\n",
      "Enter the element: 33\n",
      "Enter the element: 33\n",
      "The elements of the list are:  [90, 80, 75, 75, 44, 33, 33]\n",
      "The list is monotone decreasing\n"
     ]
    }
   ],
   "source": [
    "#5. Program to check if the array is Monotonic\n",
    "#checking if list is monotone increasing\n",
    "def isMonotonicInc(lst1,l1):\n",
    "    flag1=False\n",
    "    for i in range(l1-1):\n",
    "        if lst[i]<=lst[i+1]:\n",
    "            flag1=True\n",
    "        else:\n",
    "            flag1=False\n",
    "            break\n",
    "    return flag1\n",
    "\n",
    "#checking if list is monotone decreasing\n",
    "def isMonotonicDec(lst2,l2):\n",
    "    flag2=False\n",
    "    for i in range(l2-1):\n",
    "        if lst[i]>=lst[i+1]:\n",
    "            flag2=True\n",
    "        else:\n",
    "            flag2=False\n",
    "            break\n",
    "    return flag2\n",
    "\n",
    "lst=[]\n",
    "n=int(input(\"Enter the number of elements: \"))\n",
    "for i in range(n):\n",
    "    x=int(input(\"Enter the element: \"))\n",
    "    lst.append(x)\n",
    "\n",
    "print(\"The elements of the list are: \",lst)\n",
    "if isMonotonicInc(lst,n)==True:\n",
    "    print(\"The list is monotone increasing\")\n",
    "elif isMonotonicDec(lst,n)==True:\n",
    "    print(\"The list is monotone decreasing\")\n",
    "else:\n",
    "    print(\"The list is not monotonic\")"
   ]
  }
 ],
 "metadata": {
  "kernelspec": {
   "display_name": "Python 3",
   "language": "python",
   "name": "python3"
  },
  "language_info": {
   "codemirror_mode": {
    "name": "ipython",
    "version": 3
   },
   "file_extension": ".py",
   "mimetype": "text/x-python",
   "name": "python",
   "nbconvert_exporter": "python",
   "pygments_lexer": "ipython3",
   "version": "3.8.5"
  }
 },
 "nbformat": 4,
 "nbformat_minor": 4
}
