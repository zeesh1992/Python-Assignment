{
 "cells": [
  {
   "cell_type": "code",
   "execution_count": 7,
   "metadata": {},
   "outputs": [
    {
     "name": "stdout",
     "output_type": "stream",
     "text": [
      "Enter the number to check if it is a disarium number or not: 518\n",
      "518 is a disarium number\n"
     ]
    }
   ],
   "source": [
    "# 1. Program to check if the given number is a Disarium number\n",
    "\n",
    "n=int(input(\"Enter the number to check if it is a disarium number or not: \"))\n",
    "l=len(str(n))\n",
    "sum=rem=0\n",
    "temp=n\n",
    "while(l>0):\n",
    "    rem=temp%10\n",
    "    sum+=rem**l\n",
    "    temp=temp//10\n",
    "    l=l-1\n",
    "\n",
    "if(sum==n):\n",
    "    print(\"{} is a disarium number\".format(n))\n",
    "else:\n",
    "    print(\"{} is not a disarium number\".format(n))"
   ]
  },
  {
   "cell_type": "code",
   "execution_count": 5,
   "metadata": {},
   "outputs": [
    {
     "name": "stdout",
     "output_type": "stream",
     "text": [
      "Disarium numbers between 1-100 are: \n",
      "1\n",
      "2\n",
      "3\n",
      "4\n",
      "5\n",
      "6\n",
      "7\n",
      "8\n",
      "9\n",
      "89\n"
     ]
    }
   ],
   "source": [
    "#. 2. Program to print all disarium numbers between 1-100\n",
    "\n",
    "#calculating the number of digits\n",
    "def calcLen(n):\n",
    "    l=0\n",
    "    while(n!=0):\n",
    "        l=l+1\n",
    "        n=n//10\n",
    "    return l\n",
    "\n",
    "#calculating sum of digits\n",
    "def CalcSum(x):\n",
    "    temp=x\n",
    "    sum=rem=0\n",
    "    lt=calcLen(x)\n",
    "    while(lt>0):\n",
    "        rem=temp%10\n",
    "        sum+=rem**lt\n",
    "        temp=temp//10\n",
    "        lt=lt-1\n",
    "    return sum\n",
    "\n",
    "print(\"Disarium numbers between 1-100 are: \")\n",
    "for i in range(1,101):\n",
    "    s=CalcSum(i)\n",
    "    if(s==i):\n",
    "        print(i)"
   ]
  },
  {
   "cell_type": "code",
   "execution_count": 3,
   "metadata": {},
   "outputs": [
    {
     "name": "stdout",
     "output_type": "stream",
     "text": [
      "Enter a number to check if its a happy number or not: 19\n",
      "It is a Happy Number\n"
     ]
    }
   ],
   "source": [
    "#3. Program to check if the give number is a happy number\n",
    "\n",
    "n=int(input(\"Enter a number to check if its a happy number or not: \"))\n",
    "\n",
    "def isHappyNumber(x):\n",
    "    if x==1 or x==7:  #as 1 and 7 are the only single digit Happy number\n",
    "        return 1\n",
    "    else:\n",
    "        sum=temp=x\n",
    "        #executing the loop till the sum reaches single digit\n",
    "        while(x>9):\n",
    "            temp=x\n",
    "            sum=rem=0\n",
    "            while(temp>0):\n",
    "                rem=temp%10\n",
    "                sum+=rem**2\n",
    "                temp=temp//10\n",
    "            \n",
    "            if sum==1:\n",
    "                return 1\n",
    "            else:\n",
    "                x=sum\n",
    "        if sum==7:\n",
    "            return 1\n",
    "        else:\n",
    "            return 0\n",
    "\n",
    "res=isHappyNumber(n)\n",
    "if res==1:\n",
    "    print(\"It is a Happy Number\")\n",
    "else:\n",
    "    print(\"It is not a Happy number\")"
   ]
  },
  {
   "cell_type": "code",
   "execution_count": 4,
   "metadata": {},
   "outputs": [
    {
     "name": "stdout",
     "output_type": "stream",
     "text": [
      "List of all Happy numbers between 1 - 100:\n",
      "1\n",
      "7\n",
      "10\n",
      "13\n",
      "19\n",
      "23\n",
      "28\n",
      "31\n",
      "32\n",
      "44\n",
      "49\n",
      "68\n",
      "70\n",
      "79\n",
      "82\n",
      "86\n",
      "91\n",
      "94\n",
      "97\n",
      "100\n"
     ]
    }
   ],
   "source": [
    "#4. Program to print all the Happy numbers between 1 - 100\n",
    "\n",
    "def isHappyNumber(x):\n",
    "    if x==1 or x==7:  #as 1 and 7 are the only single digit Happy number\n",
    "        return 1\n",
    "    else:\n",
    "        sum=temp=x\n",
    "        #executing the loop till the sum reaches single digit\n",
    "        while(x>9):\n",
    "            temp=x\n",
    "            sum=rem=0\n",
    "            while(temp>0):\n",
    "                rem=temp%10\n",
    "                sum+=rem**2\n",
    "                temp=temp//10\n",
    "            \n",
    "            if sum==1:\n",
    "                return 1\n",
    "            else:\n",
    "                x=sum\n",
    "        if sum==7:\n",
    "            return 1\n",
    "        else:\n",
    "            return 0\n",
    "\n",
    "print(\"List of all Happy numbers between 1 - 100:\")\n",
    "for i in range(1,101):\n",
    "    res=isHappyNumber(i)\n",
    "    if res==1:\n",
    "        print(i)"
   ]
  },
  {
   "cell_type": "code",
   "execution_count": 7,
   "metadata": {},
   "outputs": [
    {
     "name": "stdout",
     "output_type": "stream",
     "text": [
      "Enter a number to check if its a Harshad number or not: 18\n",
      "It is a Harshad number\n"
     ]
    }
   ],
   "source": [
    "#5. Program to determine whether the given number is a Harshad number or not\n",
    "\n",
    "def isHarshadNumber(x):\n",
    "    sum=rem=0\n",
    "    while x>0:\n",
    "        rem=x%10\n",
    "        sum+=rem\n",
    "        x=x//10\n",
    "    return sum\n",
    "\n",
    "n=int(input(\"Enter a number to check if its a Harshad number or not: \"))\n",
    "s=isHarshadNumber(n)\n",
    "if n%s==0:\n",
    "    print(\"It is a Harshad number\")\n",
    "else:\n",
    "    print(\"It is not a Harshad number\")"
   ]
  },
  {
   "cell_type": "code",
   "execution_count": 18,
   "metadata": {},
   "outputs": [
    {
     "name": "stdout",
     "output_type": "stream",
     "text": [
      "Pronic numbers between 1-100 are:\n",
      "0\n",
      "2\n",
      "6\n",
      "12\n",
      "20\n",
      "30\n",
      "42\n",
      "56\n",
      "72\n",
      "90\n"
     ]
    }
   ],
   "source": [
    "#6. Program to print all pronic numbers between 1 - 100\n",
    "\n",
    "print(\"Pronic numbers between 1-100 are:\")\n",
    "def isPronic(x):\n",
    "    i=0\n",
    "    while(i<=x):\n",
    "        if i*(i+1)==x:\n",
    "            return True\n",
    "        i=i+1\n",
    "\n",
    "for i in range(101):\n",
    "    if isPronic(i):\n",
    "        print(i)"
   ]
  },
  {
   "cell_type": "code",
   "execution_count": null,
   "metadata": {},
   "outputs": [],
   "source": []
  }
 ],
 "metadata": {
  "kernelspec": {
   "display_name": "Python 3",
   "language": "python",
   "name": "python3"
  },
  "language_info": {
   "codemirror_mode": {
    "name": "ipython",
    "version": 3
   },
   "file_extension": ".py",
   "mimetype": "text/x-python",
   "name": "python",
   "nbconvert_exporter": "python",
   "pygments_lexer": "ipython3",
   "version": "3.8.5"
  }
 },
 "nbformat": 4,
 "nbformat_minor": 4
}
